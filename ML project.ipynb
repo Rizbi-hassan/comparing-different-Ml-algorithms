{
 "cells": [
  {
   "cell_type": "code",
   "execution_count": 18,
   "metadata": {},
   "outputs": [],
   "source": [
    "            #import dataset- Here 0 means cancer is benign, 1 means cancer is malignant\n",
    "from sklearn import datasets\n",
    "import numpy as np\n",
    "import pandas as pd\n",
    "import matplotlib.pyplot as plt\n",
    "#load the dataset from the scikit learn offical doc\n",
    "#https://scikit-learn.org/stable/modules/generated/sklearn.datasets.load_breast_cancer.html#sklearn.datasets.load_breast_cancer\n",
    "data= datasets.load_breast_cancer()"
   ]
  },
  {
   "cell_type": "code",
   "execution_count": 19,
   "metadata": {},
   "outputs": [],
   "source": [
    "                    # split the train and test data\n",
    "from sklearn.model_selection import train_test_split\n",
    "X= data.data\n",
    "y= data.target\n",
    "X_train, X_test, y_train, y_test= train_test_split(X,y, test_size=0.25, random_state=42, stratify=y )"
   ]
  },
  {
   "cell_type": "code",
   "execution_count": 20,
   "metadata": {},
   "outputs": [
    {
     "name": "stdout",
     "output_type": "stream",
     "text": [
      "Tuned Logistic Regression Parameters is= {'C': 1438.44988828766, 'penalty': 'l1'}\n",
      "Best score is =0.9577464788732394\n",
      "Accuracy score is =94.4055944055944 %\n",
      "Root mean squared error is =0.23652495839563303\n",
      "classification report is =             precision    recall  f1-score   support\n",
      "\n",
      "          0       0.91      0.94      0.93        53\n",
      "          1       0.97      0.94      0.96        90\n",
      "\n",
      "avg / total       0.94      0.94      0.94       143\n",
      "\n"
     ]
    }
   ],
   "source": [
    "##############################logistic regression###############################\n",
    "\n",
    "from sklearn.linear_model import LogisticRegression\n",
    "log_reg= LogisticRegression()\n",
    "#import GridSearchCV for hyperparameter tuning\n",
    "\n",
    "from sklearn.model_selection import GridSearchCV\n",
    "# I am varying hyperparameter C of logistic regression\n",
    "c_space = np.logspace(-4, 4, 20)\n",
    "param_log_reg = {'C': c_space, 'penalty': ['l1', 'l2']}\n",
    "\n",
    "        # now I will find the best parameter value for C using cross validation=3\n",
    "logreg_gridsearch = GridSearchCV(log_reg,param_log_reg , cv=3)\n",
    "\n",
    "                    # Fit it to the data\n",
    "logreg_gridsearch.fit(X_train,y_train)\n",
    "print(\"Tuned Logistic Regression Parameters is= {}\".format(logreg_gridsearch.best_params_)) \n",
    "print(\"Best score is ={}\".format(logreg_gridsearch.best_score_))\n",
    "                    #predict y\n",
    "y_predict_LogisticRegression= logreg_gridsearch.predict(X_test)\n",
    "from sklearn.metrics import accuracy_score\n",
    "from sklearn.metrics import mean_squared_error as MSE\n",
    "from sklearn.metrics import classification_report as cr\n",
    "\n",
    "\n",
    "print(\"Accuracy score is ={}\".format(accuracy_score(y_test,y_predict_LogisticRegression )*100) + ' %')\n",
    "print(\"Root mean squared error is ={}\".format(np.sqrt(MSE(y_test, y_predict_LogisticRegression) )))\n",
    "print(\"classification report is ={}\".format(cr(y_test,y_predict_LogisticRegression )))\n"
   ]
  },
  {
   "cell_type": "code",
   "execution_count": 21,
   "metadata": {},
   "outputs": [
    {
     "name": "stdout",
     "output_type": "stream",
     "text": [
      "Tuned KNN Parameters is= {'n_neighbors': 5}\n",
      "Best score is =0.9413145539906104\n",
      "Accuracy score of KNN is =93.00699300699301 %\n",
      "Root mean squared error is =0.26444294267397256\n",
      "classification report is =             precision    recall  f1-score   support\n",
      "\n",
      "          0       0.92      0.89      0.90        53\n",
      "          1       0.93      0.96      0.95        90\n",
      "\n",
      "avg / total       0.93      0.93      0.93       143\n",
      "\n"
     ]
    }
   ],
   "source": [
    " ###################################KNN ########################################################\n",
    "    \n",
    "from sklearn.neighbors import KNeighborsClassifier\n",
    "knn= KNeighborsClassifier()\n",
    "    # I am varying hyperparameter n_neighbors of KNN from 1 to 100\n",
    "knn_range = np.arange(1,100)\n",
    "param_knn = {'n_neighbors': knn_range}\n",
    "\n",
    "        # now I will find the best parameter value for knn using cross validation=3\n",
    "knn_gridsearch = GridSearchCV(knn,param_knn, cv=3)\n",
    "\n",
    "    #Fit into the train data\n",
    "knn_gridsearch.fit(X_train,y_train)\n",
    "print(\"Tuned KNN Parameters is= {}\".format(knn_gridsearch.best_params_)) \n",
    "print(\"Best score is ={}\".format(knn_gridsearch.best_score_))\n",
    "\n",
    "\n",
    "\n",
    "y_knn_predict=knn_gridsearch.predict(X_test)\n",
    "\n",
    "\n",
    "\n",
    "print(\"Accuracy score of KNN is ={}\".format(accuracy_score(y_test,y_knn_predict)*100)+ ' %')\n",
    "print(\"Root mean squared error is ={}\".format(np.sqrt(MSE(y_test, y_knn_predict) )))\n",
    "print(\"classification report is ={}\".format(cr(y_test,y_knn_predict)))\n",
    "    "
   ]
  },
  {
   "cell_type": "code",
   "execution_count": 22,
   "metadata": {},
   "outputs": [
    {
     "name": "stdout",
     "output_type": "stream",
     "text": [
      "Tuned decision tree Parameters are= {'criterion': 'entropy', 'max_depth': 3}\n",
      "Best score is =0.9272300469483568\n",
      "Accuracy score of decision tree is =95.1048951048951 %\n",
      "Root mean squared error is =0.2212488394343549\n",
      "classification report is =             precision    recall  f1-score   support\n",
      "\n",
      "          0       0.96      0.91      0.93        53\n",
      "          1       0.95      0.98      0.96        90\n",
      "\n",
      "avg / total       0.95      0.95      0.95       143\n",
      "\n"
     ]
    }
   ],
   "source": [
    "################### SVM ########################################################\n",
    "from sklearn.tree import DecisionTreeClassifier\n",
    "decisiontree= DecisionTreeClassifier()\n",
    "\n",
    "param_dist = {\"max_depth\": np.arange(1,6),\n",
    "              \"criterion\": [\"gini\", \"entropy\"]}\n",
    "\n",
    "        # now I will find the best parameter value for depth and criterion using cross validation=3\n",
    "tree_gridsearch = GridSearchCV(decisiontree,param_dist, cv=3)\n",
    "\n",
    "\n",
    "tree_gridsearch.fit(X_train,y_train)\n",
    "print(\"Tuned decision tree Parameters are= {}\".format(tree_gridsearch.best_params_)) \n",
    "print(\"Best score is ={}\".format(tree_gridsearch.best_score_))\n",
    "\n",
    "y_tree_predict= tree_gridsearch.predict(X_test)\n",
    "\n",
    "\n",
    "print(\"Accuracy score of decision tree is ={}\".format(tree_gridsearch.score(X_test, y_test)*100)+ ' %')\n",
    "print(\"Root mean squared error is ={}\".format(np.sqrt(MSE(y_test, y_tree_predict) )))\n",
    "print(\"classification report is ={}\".format(cr(y_test,y_tree_predict)))\n"
   ]
  },
  {
   "cell_type": "code",
   "execution_count": null,
   "metadata": {},
   "outputs": [],
   "source": []
  },
  {
   "cell_type": "code",
   "execution_count": 23,
   "metadata": {},
   "outputs": [
    {
     "name": "stdout",
     "output_type": "stream",
     "text": [
      "Tuned SVM Parameters are= {'C': 10, 'gamma': 0.01}\n",
      "Best score is =0.6291079812206573\n",
      "Accuracy score of SVM is =63.63636363636363 %\n",
      "Root mean squared error is =0.6030226891555273\n",
      "classification report is =             precision    recall  f1-score   support\n",
      "\n",
      "          0       1.00      0.02      0.04        53\n",
      "          1       0.63      1.00      0.78        90\n",
      "\n",
      "avg / total       0.77      0.64      0.50       143\n",
      "\n"
     ]
    }
   ],
   "source": [
    "################################ SVM #####################################################\n",
    "from sklearn.svm import SVC\n",
    "svm= SVC()\n",
    "\n",
    "svm_params = {'C':[1, 10, 100],\n",
    "              'gamma':[0.1, 0.01]}\n",
    "\n",
    "### tuning C and gamma using cross-validation=3\n",
    "svm_gridsearch = GridSearchCV(svm, svm_params, cv=3)\n",
    "\n",
    "\n",
    "svm_gridsearch.fit(X_train,y_train)\n",
    "print(\"Tuned SVM Parameters are= {}\".format(svm_gridsearch.best_params_)) \n",
    "print(\"Best score is ={}\".format(svm_gridsearch.best_score_))\n",
    "\n",
    "y_svm_predict= svm_gridsearch.predict(X_test)\n",
    "\n",
    "\n",
    "print(\"Accuracy score of SVM is ={}\".format(accuracy_score(y_test,y_svm_predict )*100)+ ' %')\n",
    "print(\"Root mean squared error is ={}\".format(np.sqrt(MSE(y_test, y_svm_predict) )))\n",
    "print(\"classification report is ={}\".format(cr(y_test,y_svm_predict)))\n",
    "\n",
    "\n",
    "\n",
    "\n"
   ]
  },
  {
   "cell_type": "code",
   "execution_count": 24,
   "metadata": {},
   "outputs": [
    {
     "name": "stdout",
     "output_type": "stream",
     "text": [
      "Tuned elasticnet Parameters are= {'l1_ratio': 1.0}\n",
      "Best score is =0.5361378508390162\n",
      "Accuracy score of elasticnet is =53.36001801400252 %\n"
     ]
    }
   ],
   "source": [
    "################ ElasticNet regularization #########################################\n",
    "\n",
    "from sklearn.linear_model import ElasticNet\n",
    "elastic= ElasticNet()\n",
    "l1_space = np.linspace(1, 2, 30)\n",
    "param_grid = {'l1_ratio': l1_space}\n",
    "\n",
    "\n",
    "\n",
    "### tuning l1_ratio using cross-validation=3\n",
    "elastic_gridsearch = GridSearchCV(elastic, param_grid, cv=3)\n",
    "\n",
    "elastic_gridsearch.fit(X_train,y_train)\n",
    "print(\"Tuned elasticnet Parameters are= {}\".format(elastic_gridsearch.best_params_)) \n",
    "print(\"Best score is ={}\".format(elastic_gridsearch.best_score_))\n",
    "\n",
    "y_elastic_predict= elastic_gridsearch.predict(X_test)\n",
    "\n",
    "\n",
    "print(\"Accuracy score of elasticnet is ={}\".format(elastic_gridsearch.score(X_test, y_test)*100)+ ' %')\n",
    "\n"
   ]
  },
  {
   "cell_type": "code",
   "execution_count": null,
   "metadata": {},
   "outputs": [],
   "source": []
  },
  {
   "cell_type": "code",
   "execution_count": null,
   "metadata": {},
   "outputs": [],
   "source": []
  },
  {
   "cell_type": "code",
   "execution_count": null,
   "metadata": {},
   "outputs": [],
   "source": []
  }
 ],
 "metadata": {
  "kernelspec": {
   "display_name": "Python 3",
   "language": "python",
   "name": "python3"
  },
  "language_info": {
   "codemirror_mode": {
    "name": "ipython",
    "version": 3
   },
   "file_extension": ".py",
   "mimetype": "text/x-python",
   "name": "python",
   "nbconvert_exporter": "python",
   "pygments_lexer": "ipython3",
   "version": "3.7.0"
  }
 },
 "nbformat": 4,
 "nbformat_minor": 2
}
